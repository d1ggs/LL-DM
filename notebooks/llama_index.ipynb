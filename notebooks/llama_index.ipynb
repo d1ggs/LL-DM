{
 "cells": [
  {
   "cell_type": "markdown",
   "metadata": {},
   "source": [
    "# LLAMAIndex examples"
   ]
  },
  {
   "cell_type": "code",
   "execution_count": 1,
   "metadata": {},
   "outputs": [],
   "source": [
    "import sys\n",
    "sys.path.append('..')"
   ]
  },
  {
   "cell_type": "markdown",
   "metadata": {},
   "source": [
    "## LLM initialization"
   ]
  },
  {
   "cell_type": "code",
   "execution_count": 2,
   "metadata": {},
   "outputs": [
    {
     "name": "stderr",
     "output_type": "stream",
     "text": [
      "ggml_init_cublas: GGML_CUDA_FORCE_MMQ:   no\n",
      "ggml_init_cublas: CUDA_USE_TENSOR_CORES: yes\n",
      "ggml_init_cublas: found 1 CUDA devices:\n",
      "  Device 0: NVIDIA RTX A5000, compute capability 8.6, VMM: yes\n",
      "llama_model_loader: loaded meta data with 21 key-value pairs and 291 tensors from /root/LL-DM/models/neural-chat-7b-v3-3.Q5_K_M.gguf (version GGUF V3 (latest))\n",
      "llama_model_loader: Dumping metadata keys/values. Note: KV overrides do not apply in this output.\n",
      "llama_model_loader: - kv   0:                       general.architecture str              = llama\n",
      "llama_model_loader: - kv   1:                               general.name str              = intel_neural-chat-7b-v3-3\n",
      "llama_model_loader: - kv   2:                       llama.context_length u32              = 32768\n",
      "llama_model_loader: - kv   3:                     llama.embedding_length u32              = 4096\n",
      "llama_model_loader: - kv   4:                          llama.block_count u32              = 32\n",
      "llama_model_loader: - kv   5:                  llama.feed_forward_length u32              = 14336\n",
      "llama_model_loader: - kv   6:                 llama.rope.dimension_count u32              = 128\n",
      "llama_model_loader: - kv   7:                 llama.attention.head_count u32              = 32\n",
      "llama_model_loader: - kv   8:              llama.attention.head_count_kv u32              = 8\n",
      "llama_model_loader: - kv   9:     llama.attention.layer_norm_rms_epsilon f32              = 0.000010\n",
      "llama_model_loader: - kv  10:                       llama.rope.freq_base f32              = 10000.000000\n",
      "llama_model_loader: - kv  11:                          general.file_type u32              = 17\n",
      "llama_model_loader: - kv  12:                       tokenizer.ggml.model str              = llama\n",
      "llama_model_loader: - kv  13:                      tokenizer.ggml.tokens arr[str,32000]   = [\"<unk>\", \"<s>\", \"</s>\", \"<0x00>\", \"<...\n",
      "llama_model_loader: - kv  14:                      tokenizer.ggml.scores arr[f32,32000]   = [0.000000, 0.000000, 0.000000, 0.0000...\n",
      "llama_model_loader: - kv  15:                  tokenizer.ggml.token_type arr[i32,32000]   = [2, 3, 3, 6, 6, 6, 6, 6, 6, 6, 6, 6, ...\n",
      "llama_model_loader: - kv  16:                tokenizer.ggml.bos_token_id u32              = 1\n",
      "llama_model_loader: - kv  17:                tokenizer.ggml.eos_token_id u32              = 2\n",
      "llama_model_loader: - kv  18:            tokenizer.ggml.unknown_token_id u32              = 0\n",
      "llama_model_loader: - kv  19:            tokenizer.ggml.padding_token_id u32              = 0\n",
      "llama_model_loader: - kv  20:               general.quantization_version u32              = 2\n",
      "llama_model_loader: - type  f32:   65 tensors\n",
      "llama_model_loader: - type q5_K:  193 tensors\n",
      "llama_model_loader: - type q6_K:   33 tensors\n",
      "llm_load_vocab: special tokens definition check successful ( 259/32000 ).\n",
      "llm_load_print_meta: format           = GGUF V3 (latest)\n",
      "llm_load_print_meta: arch             = llama\n",
      "llm_load_print_meta: vocab type       = SPM\n",
      "llm_load_print_meta: n_vocab          = 32000\n",
      "llm_load_print_meta: n_merges         = 0\n",
      "llm_load_print_meta: n_ctx_train      = 32768\n",
      "llm_load_print_meta: n_embd           = 4096\n",
      "llm_load_print_meta: n_head           = 32\n",
      "llm_load_print_meta: n_head_kv        = 8\n",
      "llm_load_print_meta: n_layer          = 32\n",
      "llm_load_print_meta: n_rot            = 128\n",
      "llm_load_print_meta: n_embd_head_k    = 128\n",
      "llm_load_print_meta: n_embd_head_v    = 128\n",
      "llm_load_print_meta: n_gqa            = 4\n",
      "llm_load_print_meta: n_embd_k_gqa     = 1024\n",
      "llm_load_print_meta: n_embd_v_gqa     = 1024\n",
      "llm_load_print_meta: f_norm_eps       = 0.0e+00\n",
      "llm_load_print_meta: f_norm_rms_eps   = 1.0e-05\n",
      "llm_load_print_meta: f_clamp_kqv      = 0.0e+00\n",
      "llm_load_print_meta: f_max_alibi_bias = 0.0e+00\n",
      "llm_load_print_meta: n_ff             = 14336\n",
      "llm_load_print_meta: n_expert         = 0\n",
      "llm_load_print_meta: n_expert_used    = 0\n",
      "llm_load_print_meta: rope scaling     = linear\n",
      "llm_load_print_meta: freq_base_train  = 10000.0\n",
      "llm_load_print_meta: freq_scale_train = 1\n",
      "llm_load_print_meta: n_yarn_orig_ctx  = 32768\n",
      "llm_load_print_meta: rope_finetuned   = unknown\n",
      "llm_load_print_meta: model type       = 7B\n",
      "llm_load_print_meta: model ftype      = Q5_K - Medium\n",
      "llm_load_print_meta: model params     = 7.24 B\n",
      "llm_load_print_meta: model size       = 4.78 GiB (5.67 BPW) \n",
      "llm_load_print_meta: general.name     = intel_neural-chat-7b-v3-3\n",
      "llm_load_print_meta: BOS token        = 1 '<s>'\n",
      "llm_load_print_meta: EOS token        = 2 '</s>'\n",
      "llm_load_print_meta: UNK token        = 0 '<unk>'\n",
      "llm_load_print_meta: PAD token        = 0 '<unk>'\n",
      "llm_load_print_meta: LF token         = 13 '<0x0A>'\n",
      "llm_load_tensors: ggml ctx size =    0.22 MiB\n",
      "llm_load_tensors: offloading 32 repeating layers to GPU\n",
      "llm_load_tensors: offloading non-repeating layers to GPU\n",
      "llm_load_tensors: offloaded 33/33 layers to GPU\n",
      "llm_load_tensors:        CPU buffer size =    85.94 MiB\n",
      "llm_load_tensors:      CUDA0 buffer size =  4807.05 MiB\n",
      "..................................................................................................\n",
      "llama_new_context_with_model: n_ctx      = 32768\n",
      "llama_new_context_with_model: freq_base  = 10000.0\n",
      "llama_new_context_with_model: freq_scale = 1\n",
      "llama_kv_cache_init:      CUDA0 KV buffer size =  4096.00 MiB\n",
      "llama_new_context_with_model: KV self size  = 4096.00 MiB, K (f16): 2048.00 MiB, V (f16): 2048.00 MiB\n",
      "llama_new_context_with_model:  CUDA_Host input buffer size   =    72.13 MiB\n",
      "llama_new_context_with_model:      CUDA0 compute buffer size =  2144.00 MiB\n",
      "llama_new_context_with_model:  CUDA_Host compute buffer size =     8.00 MiB\n",
      "llama_new_context_with_model: graph splits (measure): 3\n",
      "AVX = 1 | AVX_VNNI = 0 | AVX2 = 0 | AVX512 = 0 | AVX512_VBMI = 0 | AVX512_VNNI = 0 | FMA = 0 | NEON = 0 | ARM_FMA = 0 | F16C = 0 | FP16_VA = 0 | WASM_SIMD = 0 | BLAS = 1 | SSE3 = 1 | SSSE3 = 1 | VSX = 0 | MATMUL_INT8 = 0 | \n",
      "Model metadata: {'tokenizer.ggml.padding_token_id': '0', 'tokenizer.ggml.unknown_token_id': '0', 'tokenizer.ggml.eos_token_id': '2', 'general.architecture': 'llama', 'llama.rope.freq_base': '10000.000000', 'llama.context_length': '32768', 'general.name': 'intel_neural-chat-7b-v3-3', 'llama.embedding_length': '4096', 'llama.feed_forward_length': '14336', 'llama.attention.layer_norm_rms_epsilon': '0.000010', 'llama.rope.dimension_count': '128', 'tokenizer.ggml.bos_token_id': '1', 'llama.attention.head_count': '32', 'llama.block_count': '32', 'llama.attention.head_count_kv': '8', 'general.quantization_version': '2', 'tokenizer.ggml.model': 'llama', 'general.file_type': '17'}\n"
     ]
    }
   ],
   "source": [
    "from llama_index.core import SimpleDirectoryReader, VectorStoreIndex\n",
    "from llama_index.llms.llama_cpp import LlamaCPP\n",
    "\n",
    "import os\n",
    "\n",
    "model = LlamaCPP(\n",
    "    # model_path=os.path.join(\"/mnt/d/wsl/llamacpp/models\", \"neural-chat-7b-v3-3.Q5_K_M.gguf\"),\n",
    "    model_path=os.path.join(\"/root/LL-DM/models\", \"neural-chat-7b-v3-3.Q5_K_M.gguf\"),\n",
    "\n",
    "    temperature=0.1,\n",
    "    max_new_tokens=512,\n",
    "    # callback_manager=callback_manager,\n",
    "    # verbose=True, # Verbose is required to pass to the callback manager\n",
    "    # echo=True,\n",
    "    context_window=1024*32,\n",
    "    model_kwargs={\"n_gpu_layers\": -1}\n",
    ")\n"
   ]
  },
  {
   "cell_type": "markdown",
   "metadata": {},
   "source": [
    "## Vector store"
   ]
  },
  {
   "cell_type": "code",
   "execution_count": 3,
   "metadata": {},
   "outputs": [
    {
     "data": {
      "application/vnd.jupyter.widget-view+json": {
       "model_id": "9616937f56ad4d8a95a08eaf45114a41",
       "version_major": 2,
       "version_minor": 0
      },
      "text/plain": [
       "config.json:   0%|          | 0.00/743 [00:00<?, ?B/s]"
      ]
     },
     "metadata": {},
     "output_type": "display_data"
    },
    {
     "data": {
      "application/vnd.jupyter.widget-view+json": {
       "model_id": "6efa9ceee204419295bc0da17a1d3634",
       "version_major": 2,
       "version_minor": 0
      },
      "text/plain": [
       "model.safetensors:   0%|          | 0.00/133M [00:00<?, ?B/s]"
      ]
     },
     "metadata": {},
     "output_type": "display_data"
    },
    {
     "data": {
      "application/vnd.jupyter.widget-view+json": {
       "model_id": "e2542032cd5e41899cead0532ef54d81",
       "version_major": 2,
       "version_minor": 0
      },
      "text/plain": [
       "tokenizer_config.json:   0%|          | 0.00/366 [00:00<?, ?B/s]"
      ]
     },
     "metadata": {},
     "output_type": "display_data"
    },
    {
     "data": {
      "application/vnd.jupyter.widget-view+json": {
       "model_id": "90c24f8ca8da4e0b8a466ad5c7dd8ec6",
       "version_major": 2,
       "version_minor": 0
      },
      "text/plain": [
       "vocab.txt:   0%|          | 0.00/232k [00:00<?, ?B/s]"
      ]
     },
     "metadata": {},
     "output_type": "display_data"
    },
    {
     "data": {
      "application/vnd.jupyter.widget-view+json": {
       "model_id": "36f64fd1aa854872b6b938e960fae1bc",
       "version_major": 2,
       "version_minor": 0
      },
      "text/plain": [
       "tokenizer.json:   0%|          | 0.00/711k [00:00<?, ?B/s]"
      ]
     },
     "metadata": {},
     "output_type": "display_data"
    },
    {
     "data": {
      "application/vnd.jupyter.widget-view+json": {
       "model_id": "f470f7f215e54a8ab805cb5b4b1dcb02",
       "version_major": 2,
       "version_minor": 0
      },
      "text/plain": [
       "special_tokens_map.json:   0%|          | 0.00/125 [00:00<?, ?B/s]"
      ]
     },
     "metadata": {},
     "output_type": "display_data"
    }
   ],
   "source": [
    "import fnmatch\n",
    "\n",
    "def find_files_with_extension(root_dir, extension):\n",
    "    \n",
    "    file_list = []\n",
    "    for root, _, files in os.walk(root_dir):\n",
    "        for filename in fnmatch.filter(files, f'*.{extension}'):\n",
    "            file_list.append(os.path.join(root, filename))\n",
    "    return file_list\n",
    "\n",
    "documents = SimpleDirectoryReader(input_files=find_files_with_extension(\"/root/LL-DM/srd\", \"json\")).load_data()\n",
    "\n",
    "embed_model=\"local:BAAI/bge-small-en-v1.5\"\n",
    "\n",
    "index = VectorStoreIndex.from_documents(documents, embed_model=embed_model)"
   ]
  },
  {
   "cell_type": "code",
   "execution_count": 4,
   "metadata": {},
   "outputs": [],
   "source": [
    "query_engine = index.as_query_engine(llm=model)"
   ]
  },
  {
   "cell_type": "code",
   "execution_count": 5,
   "metadata": {},
   "outputs": [
    {
     "name": "stderr",
     "output_type": "stream",
     "text": [
      "\n",
      "llama_print_timings:        load time =   10773.87 ms\n",
      "llama_print_timings:      sample time =      31.26 ms /    59 runs   (    0.53 ms per token,  1887.28 tokens per second)\n",
      "llama_print_timings: prompt eval time =   11686.79 ms /   922 tokens (   12.68 ms per token,    78.89 tokens per second)\n",
      "llama_print_timings:        eval time =    3214.00 ms /    58 runs   (   55.41 ms per token,    18.05 tokens per second)\n",
      "llama_print_timings:       total time =   15167.93 ms /   980 tokens\n"
     ]
    },
    {
     "data": {
      "text/plain": [
       "Response(response=\"\\nThe cost of a crossbow, hand, with the index 'crossbow-hand', has a cost of 75 gp, while the cost of a crossbow, light, with the index 'crossbow-light', has a cost of 25 gp.\", source_nodes=[NodeWithScore(node=TextNode(id_='153a03a7-2b34-459a-b374-61af68f624b7', embedding=None, metadata={'file_path': '/root/LL-DM/srd/api/equipment/crossbow-hand.json', 'file_name': 'crossbow-hand.json', 'file_type': 'application/json', 'file_size': 1011, 'creation_date': '2024-02-17', 'last_modified_date': '2024-01-18', 'last_accessed_date': '2024-02-17'}, excluded_embed_metadata_keys=['file_name', 'file_type', 'file_size', 'creation_date', 'last_modified_date', 'last_accessed_date'], excluded_llm_metadata_keys=['file_name', 'file_type', 'file_size', 'creation_date', 'last_modified_date', 'last_accessed_date'], relationships={<NodeRelationship.SOURCE: '1'>: RelatedNodeInfo(node_id='848e27e0-e985-48af-9d9b-fcb78c315f59', node_type=<ObjectType.DOCUMENT: '4'>, metadata={'file_path': '/root/LL-DM/srd/api/equipment/crossbow-hand.json', 'file_name': 'crossbow-hand.json', 'file_type': 'application/json', 'file_size': 1011, 'creation_date': '2024-02-17', 'last_modified_date': '2024-01-18', 'last_accessed_date': '2024-02-17'}, hash='3158ec482df1fae3a3f7c54fa27da001a993d0a5d618a3952fb7eaf672267a37'), <NodeRelationship.PREVIOUS: '2'>: RelatedNodeInfo(node_id='ed93da1c-edeb-44dc-af08-de787140d97e', node_type=<ObjectType.TEXT: '1'>, metadata={'file_path': '/root/LL-DM/srd/api/equipment/barding-plate.json', 'file_name': 'barding-plate.json', 'file_type': 'application/json', 'file_size': 713, 'creation_date': '2024-02-17', 'last_modified_date': '2024-01-18', 'last_accessed_date': '2024-02-17'}, hash='c4d43214568e6a86597a7a17bda93576cc5641203c9172c2a317aef1f8d050df'), <NodeRelationship.NEXT: '3'>: RelatedNodeInfo(node_id='abebbeb4-830d-4a14-85b3-d831394a5830', node_type=<ObjectType.TEXT: '1'>, metadata={}, hash='d013c7c78338898c2ccbb4666893244e32f49038eecb1343a8d51bbff1fda852')}, text='{\\n  \"desc\": [],\\n  \"special\": [],\\n  \"index\": \"crossbow-hand\",\\n  \"name\": \"Crossbow, hand\",\\n  \"equipment_category\": {\\n    \"index\": \"weapon\",\\n    \"name\": \"Weapon\",\\n    \"url\": \"/api/equipment-categories/weapon\"\\n  },\\n  \"weapon_category\": \"Martial\",\\n  \"weapon_range\": \"Ranged\",\\n  \"category_range\": \"Martial Ranged\",\\n  \"cost\": {\\n    \"quantity\": 75,\\n    \"unit\": \"gp\"\\n  },\\n  \"damage\": {\\n    \"damage_dice\": \"1d6\",\\n    \"damage_type\": {\\n      \"index\": \"piercing\",\\n      \"name\": \"Piercing\",\\n      \"url\": \"/api/damage-types/piercing\"\\n    }\\n  },\\n  \"range\": {\\n    \"normal\": 30,\\n    \"long\": 120\\n  },\\n  \"weight\": 3,\\n  \"properties\": [\\n    {\\n      \"index\": \"ammunition\",\\n      \"name\": \"Ammunition\",\\n      \"url\": \"/api/weapon-properties/ammunition\"\\n    },\\n    {\\n      \"index\": \"light\",\\n      \"name\": \"Light\",\\n      \"url\": \"/api/weapon-properties/light\"\\n    },\\n    {\\n      \"index\": \"loading\",\\n      \"name\": \"Loading\",\\n      \"url\": \"/api/weapon-properties/loading\"\\n    }\\n  ],\\n  \"url\": \"/api/equipment/crossbow-hand\",\\n  \"contents\": []\\n}', start_char_idx=0, end_char_idx=1011, text_template='{metadata_str}\\n\\n{content}', metadata_template='{key}: {value}', metadata_seperator='\\n'), score=0.6632723405730393), NodeWithScore(node=TextNode(id_='e80fc59b-7669-4a09-97b8-b418ba24a1ad', embedding=None, metadata={'file_path': '/root/LL-DM/srd/api/equipment/crossbow-light.json', 'file_name': 'crossbow-light.json', 'file_type': 'application/json', 'file_size': 1027, 'creation_date': '2024-02-17', 'last_modified_date': '2024-01-18', 'last_accessed_date': '2024-02-17'}, excluded_embed_metadata_keys=['file_name', 'file_type', 'file_size', 'creation_date', 'last_modified_date', 'last_accessed_date'], excluded_llm_metadata_keys=['file_name', 'file_type', 'file_size', 'creation_date', 'last_modified_date', 'last_accessed_date'], relationships={<NodeRelationship.SOURCE: '1'>: RelatedNodeInfo(node_id='82650ee1-338b-4d96-a909-7f1252c400f6', node_type=<ObjectType.DOCUMENT: '4'>, metadata={'file_path': '/root/LL-DM/srd/api/equipment/crossbow-light.json', 'file_name': 'crossbow-light.json', 'file_type': 'application/json', 'file_size': 1027, 'creation_date': '2024-02-17', 'last_modified_date': '2024-01-18', 'last_accessed_date': '2024-02-17'}, hash='5b8b2d48248cdd0e9e668aa908ab3c0caf34cf156b01d9ecbfb0f4e21d0ccf2b'), <NodeRelationship.PREVIOUS: '2'>: RelatedNodeInfo(node_id='da6ccbd8-e72d-4836-9b40-14d291f55a23', node_type=<ObjectType.TEXT: '1'>, metadata={'file_path': '/root/LL-DM/srd/api/equipment/alchemists-supplies.json', 'file_name': 'alchemists-supplies.json', 'file_type': 'application/json', 'file_size': 804, 'creation_date': '2024-02-17', 'last_modified_date': '2024-01-18', 'last_accessed_date': '2024-02-17'}, hash='d3e6ca79c3bfe2b1ea09609b622ec7efd09355c846c345c05b3270d69438226d'), <NodeRelationship.NEXT: '3'>: RelatedNodeInfo(node_id='c4f85644-9073-4ad5-a7fa-0447dde563ec', node_type=<ObjectType.TEXT: '1'>, metadata={}, hash='cff9aab97565686701f317724a5a1389f4fef32186d83f8cde5eb08158a14047')}, text='{\\n  \"desc\": [],\\n  \"special\": [],\\n  \"index\": \"crossbow-light\",\\n  \"name\": \"Crossbow, light\",\\n  \"equipment_category\": {\\n    \"index\": \"weapon\",\\n    \"name\": \"Weapon\",\\n    \"url\": \"/api/equipment-categories/weapon\"\\n  },\\n  \"weapon_category\": \"Simple\",\\n  \"weapon_range\": \"Ranged\",\\n  \"category_range\": \"Simple Ranged\",\\n  \"cost\": {\\n    \"quantity\": 25,\\n    \"unit\": \"gp\"\\n  },\\n  \"damage\": {\\n    \"damage_dice\": \"1d8\",\\n    \"damage_type\": {\\n      \"index\": \"piercing\",\\n      \"name\": \"Piercing\",\\n      \"url\": \"/api/damage-types/piercing\"\\n    }\\n  },\\n  \"range\": {\\n    \"normal\": 80,\\n    \"long\": 320\\n  },\\n  \"weight\": 5,\\n  \"properties\": [\\n    {\\n      \"index\": \"ammunition\",\\n      \"name\": \"Ammunition\",\\n      \"url\": \"/api/weapon-properties/ammunition\"\\n    },\\n    {\\n      \"index\": \"loading\",\\n      \"name\": \"Loading\",\\n      \"url\": \"/api/weapon-properties/loading\"\\n    },\\n    {\\n      \"index\": \"two-handed\",\\n      \"name\": \"Two-Handed\",\\n      \"url\": \"/api/weapon-properties/two-handed\"\\n    }\\n  ],\\n  \"url\": \"/api/equipment/crossbow-light\",\\n  \"contents\": []\\n}', start_char_idx=0, end_char_idx=1027, text_template='{metadata_str}\\n\\n{content}', metadata_template='{key}: {value}', metadata_seperator='\\n'), score=0.6574365916958069)], metadata={'153a03a7-2b34-459a-b374-61af68f624b7': {'file_path': '/root/LL-DM/srd/api/equipment/crossbow-hand.json', 'file_name': 'crossbow-hand.json', 'file_type': 'application/json', 'file_size': 1011, 'creation_date': '2024-02-17', 'last_modified_date': '2024-01-18', 'last_accessed_date': '2024-02-17'}, 'e80fc59b-7669-4a09-97b8-b418ba24a1ad': {'file_path': '/root/LL-DM/srd/api/equipment/crossbow-light.json', 'file_name': 'crossbow-light.json', 'file_type': 'application/json', 'file_size': 1027, 'creation_date': '2024-02-17', 'last_modified_date': '2024-01-18', 'last_accessed_date': '2024-02-17'}})"
      ]
     },
     "execution_count": 5,
     "metadata": {},
     "output_type": "execute_result"
    }
   ],
   "source": [
    "query_engine.query(\"What is the cost of a crossbow?\")"
   ]
  },
  {
   "cell_type": "code",
   "execution_count": 6,
   "metadata": {},
   "outputs": [],
   "source": [
    "from llama_index.core.node_parser import (\n",
    "    HierarchicalNodeParser,\n",
    "    SentenceSplitter,\n",
    ")"
   ]
  },
  {
   "cell_type": "code",
   "execution_count": 7,
   "metadata": {},
   "outputs": [],
   "source": [
    "node_parser = HierarchicalNodeParser.from_defaults()"
   ]
  },
  {
   "cell_type": "code",
   "execution_count": 9,
   "metadata": {},
   "outputs": [],
   "source": [
    "nodes = node_parser.get_nodes_from_documents(documents)"
   ]
  },
  {
   "cell_type": "code",
   "execution_count": 10,
   "metadata": {},
   "outputs": [],
   "source": [
    "from llama_index.core.node_parser import get_leaf_nodes, get_root_nodes\n",
    "leaf_nodes = get_leaf_nodes(nodes)\n",
    "root_nodes = get_root_nodes(nodes)"
   ]
  },
  {
   "cell_type": "code",
   "execution_count": 11,
   "metadata": {},
   "outputs": [],
   "source": [
    "# define storage context\n",
    "from llama_index.core.storage.docstore import SimpleDocumentStore\n",
    "from llama_index.core import StorageContext\n",
    "from llama_index.llms.openai import OpenAI\n",
    "\n",
    "docstore = SimpleDocumentStore()\n",
    "\n",
    "# insert nodes into docstore\n",
    "docstore.add_documents(nodes)\n",
    "\n",
    "# define storage context (will include vector store by default too)\n",
    "storage_context = StorageContext.from_defaults(docstore=docstore)"
   ]
  },
  {
   "cell_type": "code",
   "execution_count": 12,
   "metadata": {},
   "outputs": [],
   "source": [
    "## Load index into vector index\n",
    "from llama_index.core import VectorStoreIndex\n",
    "\n",
    "base_index = VectorStoreIndex(\n",
    "    leaf_nodes,\n",
    "    storage_context=storage_context,\n",
    "    embed_model=embed_model,\n",
    "    show_progress=True\n",
    ")"
   ]
  },
  {
   "cell_type": "code",
   "execution_count": 13,
   "metadata": {},
   "outputs": [],
   "source": [
    "from llama_index.core.retrievers import AutoMergingRetriever\n",
    "base_retriever = base_index.as_retriever(similarity_top_k=6)\n",
    "retriever = AutoMergingRetriever(base_retriever, storage_context, verbose=True)"
   ]
  },
  {
   "cell_type": "code",
   "execution_count": 14,
   "metadata": {},
   "outputs": [],
   "source": [
    "from llama_index.core.query_engine import RetrieverQueryEngine\n",
    "query_engine = RetrieverQueryEngine.from_args(retriever, llm=model)\n",
    "# base_query_engine = RetrieverQueryEngine.from_args(base_retriever)"
   ]
  },
  {
   "cell_type": "code",
   "execution_count": 16,
   "metadata": {},
   "outputs": [
    {
     "name": "stderr",
     "output_type": "stream",
     "text": [
      "Llama.generate: prefix-match hit\n",
      "\n",
      "llama_print_timings:        load time =   10773.87 ms\n",
      "llama_print_timings:      sample time =      53.12 ms /    91 runs   (    0.58 ms per token,  1713.10 tokens per second)\n",
      "llama_print_timings: prompt eval time =    1779.09 ms /   939 tokens (    1.89 ms per token,   527.80 tokens per second)\n",
      "llama_print_timings:        eval time =    4972.25 ms /    90 runs   (   55.25 ms per token,    18.10 tokens per second)\n",
      "llama_print_timings:       total time =    7170.39 ms /  1029 tokens\n"
     ]
    },
    {
     "data": {
      "text/plain": [
       "Response(response='\\nThe costs of crossbows are as follows:\\n1. Crossbow-Hand: Cost = 75 gp\\n2. Crossbow-Light: Cost = 25 gp\\n3. Crossbow-Heavy: Cost = 50 gp\\n\\nNote that these costs are for the crossbows themselves, and additional costs for bolts and other equipment may apply depending on the class and character build.', source_nodes=[NodeWithScore(node=TextNode(id_='018504d9-3e8c-42ad-864f-4015a188a68e', embedding=None, metadata={'file_path': '/root/LL-DM/srd/api/equipment/crossbow-hand.json', 'file_name': 'crossbow-hand.json', 'file_type': 'application/json', 'file_size': 1011, 'creation_date': '2024-02-17', 'last_modified_date': '2024-01-18', 'last_accessed_date': '2024-02-17'}, excluded_embed_metadata_keys=['file_name', 'file_type', 'file_size', 'creation_date', 'last_modified_date', 'last_accessed_date'], excluded_llm_metadata_keys=['file_name', 'file_type', 'file_size', 'creation_date', 'last_modified_date', 'last_accessed_date'], relationships={<NodeRelationship.SOURCE: '1'>: RelatedNodeInfo(node_id='68fc34d7-8eb8-4690-aa2a-43019155acac', node_type=<ObjectType.TEXT: '1'>, metadata={'file_path': '/root/LL-DM/srd/api/equipment/crossbow-hand.json', 'file_name': 'crossbow-hand.json', 'file_type': 'application/json', 'file_size': 1011, 'creation_date': '2024-02-17', 'last_modified_date': '2024-01-18', 'last_accessed_date': '2024-02-17'}, hash='3158ec482df1fae3a3f7c54fa27da001a993d0a5d618a3952fb7eaf672267a37'), <NodeRelationship.PREVIOUS: '2'>: RelatedNodeInfo(node_id='a2d5c7c5-2681-4027-b8a2-7e3b2bad8368', node_type=<ObjectType.TEXT: '1'>, metadata={'file_path': '/root/LL-DM/srd/api/equipment/crossbow-hand.json', 'file_name': 'crossbow-hand.json', 'file_type': 'application/json', 'file_size': 1011, 'creation_date': '2024-02-17', 'last_modified_date': '2024-01-18', 'last_accessed_date': '2024-02-17'}, hash='695218b6cef7555ec698a4f993635647a6c8ccd368ebbc06cd7607474e39c28c'), <NodeRelationship.NEXT: '3'>: RelatedNodeInfo(node_id='0ef65c5c-bd17-494a-84fa-22befb57fb28', node_type=<ObjectType.TEXT: '1'>, metadata={}, hash='6018e1c7c52d20642f72e0f96db5066518beffd0d4780103aa23dfeaba7b5402'), <NodeRelationship.PARENT: '4'>: RelatedNodeInfo(node_id='68fc34d7-8eb8-4690-aa2a-43019155acac', node_type=<ObjectType.TEXT: '1'>, metadata={'file_path': '/root/LL-DM/srd/api/equipment/crossbow-hand.json', 'file_name': 'crossbow-hand.json', 'file_type': 'application/json', 'file_size': 1011, 'creation_date': '2024-02-17', 'last_modified_date': '2024-01-18', 'last_accessed_date': '2024-02-17'}, hash='3158ec482df1fae3a3f7c54fa27da001a993d0a5d618a3952fb7eaf672267a37')}, text='\"category_range\": \"Martial Ranged\",\\n  \"cost\": {\\n    \"quantity\": 75,\\n    \"unit\": \"gp\"\\n  },\\n  \"damage\": {\\n    \"damage_dice\": \"1d6\",\\n    \"damage_type\": {\\n      \"index\": \"piercing\",\\n      \"name\": \"Piercing\",\\n      \"url\": \"/api/damage-types/piercing\"\\n    }\\n  },\\n  \"range\": {\\n    \"normal\": 30,', start_char_idx=273, end_char_idx=560, text_template='{metadata_str}\\n\\n{content}', metadata_template='{key}: {value}', metadata_seperator='\\n'), score=0.6808191953502405), NodeWithScore(node=TextNode(id_='13cd63f2-3038-44eb-84b7-7fe273d9359a', embedding=None, metadata={'file_path': '/root/LL-DM/srd/api/equipment/crossbow-light.json', 'file_name': 'crossbow-light.json', 'file_type': 'application/json', 'file_size': 1027, 'creation_date': '2024-02-17', 'last_modified_date': '2024-01-18', 'last_accessed_date': '2024-02-17'}, excluded_embed_metadata_keys=['file_name', 'file_type', 'file_size', 'creation_date', 'last_modified_date', 'last_accessed_date'], excluded_llm_metadata_keys=['file_name', 'file_type', 'file_size', 'creation_date', 'last_modified_date', 'last_accessed_date'], relationships={<NodeRelationship.SOURCE: '1'>: RelatedNodeInfo(node_id='559e26d2-186e-4dc1-865b-8dd834ac222f', node_type=<ObjectType.TEXT: '1'>, metadata={'file_path': '/root/LL-DM/srd/api/equipment/crossbow-light.json', 'file_name': 'crossbow-light.json', 'file_type': 'application/json', 'file_size': 1027, 'creation_date': '2024-02-17', 'last_modified_date': '2024-01-18', 'last_accessed_date': '2024-02-17'}, hash='5b8b2d48248cdd0e9e668aa908ab3c0caf34cf156b01d9ecbfb0f4e21d0ccf2b'), <NodeRelationship.PREVIOUS: '2'>: RelatedNodeInfo(node_id='4a8252d6-1082-4236-844a-4a8601ef05dc', node_type=<ObjectType.TEXT: '1'>, metadata={'file_path': '/root/LL-DM/srd/api/equipment/crossbow-light.json', 'file_name': 'crossbow-light.json', 'file_type': 'application/json', 'file_size': 1027, 'creation_date': '2024-02-17', 'last_modified_date': '2024-01-18', 'last_accessed_date': '2024-02-17'}, hash='b1282da559e334945145c13fb0c5f626d37b3f96caeda56661b6aadaa59957b7'), <NodeRelationship.NEXT: '3'>: RelatedNodeInfo(node_id='943c654a-df3d-4ab9-af08-8a6a0a7b3c47', node_type=<ObjectType.TEXT: '1'>, metadata={}, hash='59057a8ed4bdf8e46d5a8d4fc31caa495bc0001a81cbbaa5e36838ac6dba9638'), <NodeRelationship.PARENT: '4'>: RelatedNodeInfo(node_id='559e26d2-186e-4dc1-865b-8dd834ac222f', node_type=<ObjectType.TEXT: '1'>, metadata={'file_path': '/root/LL-DM/srd/api/equipment/crossbow-light.json', 'file_name': 'crossbow-light.json', 'file_type': 'application/json', 'file_size': 1027, 'creation_date': '2024-02-17', 'last_modified_date': '2024-01-18', 'last_accessed_date': '2024-02-17'}, hash='5b8b2d48248cdd0e9e668aa908ab3c0caf34cf156b01d9ecbfb0f4e21d0ccf2b')}, text='\"category_range\": \"Simple Ranged\",\\n  \"cost\": {\\n    \"quantity\": 25,\\n    \"unit\": \"gp\"\\n  },\\n  \"damage\": {\\n    \"damage_dice\": \"1d8\",\\n    \"damage_type\": {\\n      \"index\": \"piercing\",\\n      \"name\": \"Piercing\",\\n      \"url\": \"/api/damage-types/piercing\"\\n    }\\n  },\\n  \"range\": {\\n    \"normal\": 80,', start_char_idx=274, end_char_idx=560, text_template='{metadata_str}\\n\\n{content}', metadata_template='{key}: {value}', metadata_seperator='\\n'), score=0.6806918459859593), NodeWithScore(node=TextNode(id_='16ebd499-83a7-44bd-8f90-b26fdb24b39f', embedding=None, metadata={'file_path': '/root/LL-DM/srd/api/equipment/case-crossbow-bolt.json', 'file_name': 'case-crossbow-bolt.json', 'file_type': 'application/json', 'file_size': 605, 'creation_date': '2024-02-17', 'last_modified_date': '2024-01-18', 'last_accessed_date': '2024-02-17'}, excluded_embed_metadata_keys=['file_name', 'file_type', 'file_size', 'creation_date', 'last_modified_date', 'last_accessed_date'], excluded_llm_metadata_keys=['file_name', 'file_type', 'file_size', 'creation_date', 'last_modified_date', 'last_accessed_date'], relationships={<NodeRelationship.SOURCE: '1'>: RelatedNodeInfo(node_id='d74224b4-a221-4b4f-ba25-42ef6cb18d26', node_type=<ObjectType.TEXT: '1'>, metadata={'file_path': '/root/LL-DM/srd/api/equipment/case-crossbow-bolt.json', 'file_name': 'case-crossbow-bolt.json', 'file_type': 'application/json', 'file_size': 605, 'creation_date': '2024-02-17', 'last_modified_date': '2024-01-18', 'last_accessed_date': '2024-02-17'}, hash='392aa6cf478d44df897c9e738a3769fbcd428f4590c13e412d489ddd2afae006'), <NodeRelationship.PREVIOUS: '2'>: RelatedNodeInfo(node_id='b2a86805-04c7-458d-a1c4-891abde71eda', node_type=<ObjectType.TEXT: '1'>, metadata={'file_path': '/root/LL-DM/srd/api/equipment/case-crossbow-bolt.json', 'file_name': 'case-crossbow-bolt.json', 'file_type': 'application/json', 'file_size': 605, 'creation_date': '2024-02-17', 'last_modified_date': '2024-01-18', 'last_accessed_date': '2024-02-17'}, hash='80dddcacd1971776ce3869a0775d5aecaab3a4000c26d70c8b6a650147e0a459'), <NodeRelationship.PARENT: '4'>: RelatedNodeInfo(node_id='d74224b4-a221-4b4f-ba25-42ef6cb18d26', node_type=<ObjectType.TEXT: '1'>, metadata={'file_path': '/root/LL-DM/srd/api/equipment/case-crossbow-bolt.json', 'file_name': 'case-crossbow-bolt.json', 'file_type': 'application/json', 'file_size': 605, 'creation_date': '2024-02-17', 'last_modified_date': '2024-01-18', 'last_accessed_date': '2024-02-17'}, hash='392aa6cf478d44df897c9e738a3769fbcd428f4590c13e412d489ddd2afae006')}, text='\"name\": \"Standard Gear\",\\n    \"url\": \"/api/equipment-categories/standard-gear\"\\n  },\\n  \"cost\": {\\n    \"quantity\": 1,\\n    \"unit\": \"gp\"\\n  },\\n  \"weight\": 1,\\n  \"desc\": [\\n    \"This wooden case can hold up to twenty crossbow bolts.\"\\n  ],\\n  \"url\": \"/api/equipment/case-crossbow-bolt\",\\n  \"contents\": [],\\n  \"properties\": []\\n}', start_char_idx=292, end_char_idx=605, text_template='{metadata_str}\\n\\n{content}', metadata_template='{key}: {value}', metadata_seperator='\\n'), score=0.6806823566330477), NodeWithScore(node=TextNode(id_='f41e2562-aaba-4556-ab3b-d02352929c8d', embedding=None, metadata={'file_path': '/root/LL-DM/srd/api/equipment/crossbow-heavy.json', 'file_name': 'crossbow-heavy.json', 'file_type': 'application/json', 'file_size': 1136, 'creation_date': '2024-02-17', 'last_modified_date': '2024-01-18', 'last_accessed_date': '2024-02-17'}, excluded_embed_metadata_keys=['file_name', 'file_type', 'file_size', 'creation_date', 'last_modified_date', 'last_accessed_date'], excluded_llm_metadata_keys=['file_name', 'file_type', 'file_size', 'creation_date', 'last_modified_date', 'last_accessed_date'], relationships={<NodeRelationship.SOURCE: '1'>: RelatedNodeInfo(node_id='20600e6e-39ac-410c-bc9d-702fbbfba369', node_type=<ObjectType.TEXT: '1'>, metadata={'file_path': '/root/LL-DM/srd/api/equipment/crossbow-heavy.json', 'file_name': 'crossbow-heavy.json', 'file_type': 'application/json', 'file_size': 1136, 'creation_date': '2024-02-17', 'last_modified_date': '2024-01-18', 'last_accessed_date': '2024-02-17'}, hash='9f175faf298affd4a015d332ce3402fc5c6a48597d857754ae61dfe936b48747'), <NodeRelationship.PREVIOUS: '2'>: RelatedNodeInfo(node_id='33c8e238-8a64-4ead-9e3c-ce692cb3bfa3', node_type=<ObjectType.TEXT: '1'>, metadata={'file_path': '/root/LL-DM/srd/api/equipment/crossbow-heavy.json', 'file_name': 'crossbow-heavy.json', 'file_type': 'application/json', 'file_size': 1136, 'creation_date': '2024-02-17', 'last_modified_date': '2024-01-18', 'last_accessed_date': '2024-02-17'}, hash='e6981d56041b70097d1611a5827cdbda56d2ad4c5a0fe97d27a9f940da5bdaa2'), <NodeRelationship.NEXT: '3'>: RelatedNodeInfo(node_id='d79ff023-988a-4859-88e2-82696487d193', node_type=<ObjectType.TEXT: '1'>, metadata={}, hash='82357bd993490f6aea416b90b8f401a2f83d7f9ae535492d4d1fbde8cb5cdb87'), <NodeRelationship.PARENT: '4'>: RelatedNodeInfo(node_id='20600e6e-39ac-410c-bc9d-702fbbfba369', node_type=<ObjectType.TEXT: '1'>, metadata={'file_path': '/root/LL-DM/srd/api/equipment/crossbow-heavy.json', 'file_name': 'crossbow-heavy.json', 'file_type': 'application/json', 'file_size': 1136, 'creation_date': '2024-02-17', 'last_modified_date': '2024-01-18', 'last_accessed_date': '2024-02-17'}, hash='9f175faf298affd4a015d332ce3402fc5c6a48597d857754ae61dfe936b48747')}, text='\"category_range\": \"Martial Ranged\",\\n  \"cost\": {\\n    \"quantity\": 50,\\n    \"unit\": \"gp\"\\n  },\\n  \"damage\": {\\n    \"damage_dice\": \"1d10\",\\n    \"damage_type\": {\\n      \"index\": \"piercing\",\\n      \"name\": \"Piercing\",\\n      \"url\": \"/api/damage-types/piercing\"\\n    }\\n  },\\n  \"range\": {\\n    \"normal\": 100,', start_char_idx=275, end_char_idx=564, text_template='{metadata_str}\\n\\n{content}', metadata_template='{key}: {value}', metadata_seperator='\\n'), score=0.6765789679660177), NodeWithScore(node=TextNode(id_='9f05c725-46d0-4ecb-a82d-8f357e08ae19', embedding=None, metadata={'file_path': '/root/LL-DM/srd/api/classes/fighter.json', 'file_name': 'fighter.json', 'file_type': 'application/json', 'file_size': 10123, 'creation_date': '2024-02-17', 'last_modified_date': '2024-01-18', 'last_accessed_date': '2024-02-17'}, excluded_embed_metadata_keys=['file_name', 'file_type', 'file_size', 'creation_date', 'last_modified_date', 'last_accessed_date'], excluded_llm_metadata_keys=['file_name', 'file_type', 'file_size', 'creation_date', 'last_modified_date', 'last_accessed_date'], relationships={<NodeRelationship.SOURCE: '1'>: RelatedNodeInfo(node_id='88aedb42-c1bb-41d0-8ae1-298108e51bde', node_type=<ObjectType.TEXT: '1'>, metadata={'file_path': '/root/LL-DM/srd/api/classes/fighter.json', 'file_name': 'fighter.json', 'file_type': 'application/json', 'file_size': 10123, 'creation_date': '2024-02-17', 'last_modified_date': '2024-01-18', 'last_accessed_date': '2024-02-17'}, hash='d491a1b7a9aaeaa1d7dd4b73be7b390a559919a32b75cf766779e891b7582969'), <NodeRelationship.PREVIOUS: '2'>: RelatedNodeInfo(node_id='4c661a60-f650-471a-b083-d7c4eb46af14', node_type=<ObjectType.TEXT: '1'>, metadata={'file_path': '/root/LL-DM/srd/api/classes/fighter.json', 'file_name': 'fighter.json', 'file_type': 'application/json', 'file_size': 10123, 'creation_date': '2024-02-17', 'last_modified_date': '2024-01-18', 'last_accessed_date': '2024-02-17'}, hash='592e55b85f23285236be42c7fad7ecebc6d74d9964f3966924392f6237274c1c'), <NodeRelationship.NEXT: '3'>: RelatedNodeInfo(node_id='49606f1a-fe3c-4bd9-a541-e64476efdcf1', node_type=<ObjectType.TEXT: '1'>, metadata={}, hash='f6d17b9f4db4ede10003b2786b07ba478dff0d22d95a89fdc9d9b066f65313b6'), <NodeRelationship.PARENT: '4'>: RelatedNodeInfo(node_id='88aedb42-c1bb-41d0-8ae1-298108e51bde', node_type=<ObjectType.TEXT: '1'>, metadata={'file_path': '/root/LL-DM/srd/api/classes/fighter.json', 'file_name': 'fighter.json', 'file_type': 'application/json', 'file_size': 10123, 'creation_date': '2024-02-17', 'last_modified_date': '2024-01-18', 'last_accessed_date': '2024-02-17'}, hash='d491a1b7a9aaeaa1d7dd4b73be7b390a559919a32b75cf766779e891b7582969')}, text='\"count\": 1,\\n                \"of\": {\\n                  \"index\": \"crossbow-light\",\\n                  \"name\": \"Crossbow, light\",\\n                  \"url\": \"/api/equipment/crossbow-light\"\\n                }\\n              },\\n              {\\n                \"option_type\": \"counted_reference\",\\n                \"count\": 20,\\n                \"of\": {\\n                  \"index\": \"crossbow-bolt\",\\n                  \"name\": \"Crossbow bolt\",', start_char_idx=1197, end_char_idx=1622, text_template='{metadata_str}\\n\\n{content}', metadata_template='{key}: {value}', metadata_seperator='\\n'), score=0.6624422147532938), NodeWithScore(node=TextNode(id_='de8cd5dd-829c-4dd3-a9d6-16ac48d0fd3f', embedding=None, metadata={'file_path': '/root/LL-DM/srd/api/classes/cleric.json', 'file_name': 'cleric.json', 'file_type': 'application/json', 'file_size': 11236, 'creation_date': '2024-02-17', 'last_modified_date': '2024-01-18', 'last_accessed_date': '2024-02-17'}, excluded_embed_metadata_keys=['file_name', 'file_type', 'file_size', 'creation_date', 'last_modified_date', 'last_accessed_date'], excluded_llm_metadata_keys=['file_name', 'file_type', 'file_size', 'creation_date', 'last_modified_date', 'last_accessed_date'], relationships={<NodeRelationship.SOURCE: '1'>: RelatedNodeInfo(node_id='12a07cea-4126-4077-a98b-b81e81cacd09', node_type=<ObjectType.TEXT: '1'>, metadata={'file_path': '/root/LL-DM/srd/api/classes/cleric.json', 'file_name': 'cleric.json', 'file_type': 'application/json', 'file_size': 11236, 'creation_date': '2024-02-17', 'last_modified_date': '2024-01-18', 'last_accessed_date': '2024-02-17'}, hash='eadacefe73684f2f75d60ca30c1f1fb3a3ba45649ecc4d3a6296e7902193ad12'), <NodeRelationship.PREVIOUS: '2'>: RelatedNodeInfo(node_id='b709533a-4fb2-4968-94f8-1c5b2a91ce01', node_type=<ObjectType.TEXT: '1'>, metadata={'file_path': '/root/LL-DM/srd/api/classes/cleric.json', 'file_name': 'cleric.json', 'file_type': 'application/json', 'file_size': 11236, 'creation_date': '2024-02-17', 'last_modified_date': '2024-01-18', 'last_accessed_date': '2024-02-17'}, hash='8628ad47e21b4c01aaeb90fcc93d654f1b5c3a8eee17ed8975810a367b540a65'), <NodeRelationship.NEXT: '3'>: RelatedNodeInfo(node_id='8f7fe4e8-6ee4-4dd5-854c-ebadea80fa7e', node_type=<ObjectType.TEXT: '1'>, metadata={}, hash='d8662e0c8e310c510a6396af0e1b26954918072e5fbcfb3e680e170dd15caf38'), <NodeRelationship.PARENT: '4'>: RelatedNodeInfo(node_id='12a07cea-4126-4077-a98b-b81e81cacd09', node_type=<ObjectType.TEXT: '1'>, metadata={'file_path': '/root/LL-DM/srd/api/classes/cleric.json', 'file_name': 'cleric.json', 'file_type': 'application/json', 'file_size': 11236, 'creation_date': '2024-02-17', 'last_modified_date': '2024-01-18', 'last_accessed_date': '2024-02-17'}, hash='eadacefe73684f2f75d60ca30c1f1fb3a3ba45649ecc4d3a6296e7902193ad12')}, text='\"count\": 20,\\n                \"of\": {\\n                  \"index\": \"crossbow-bolt\",\\n                  \"name\": \"Crossbow bolt\",\\n                  \"url\": \"/api/equipment/crossbow-bolt\"\\n                }\\n              }\\n            ]\\n          },\\n          {\\n            \"option_type\": \"choice\",\\n            \"choice\": {\\n              \"desc\": \"any simple weapon\",\\n              \"choose\": 1,\\n              \"type\": \"equipment\",', start_char_idx=473, end_char_idx=891, text_template='{metadata_str}\\n\\n{content}', metadata_template='{key}: {value}', metadata_seperator='\\n'), score=0.6610181712454606)], metadata={'018504d9-3e8c-42ad-864f-4015a188a68e': {'file_path': '/root/LL-DM/srd/api/equipment/crossbow-hand.json', 'file_name': 'crossbow-hand.json', 'file_type': 'application/json', 'file_size': 1011, 'creation_date': '2024-02-17', 'last_modified_date': '2024-01-18', 'last_accessed_date': '2024-02-17'}, '13cd63f2-3038-44eb-84b7-7fe273d9359a': {'file_path': '/root/LL-DM/srd/api/equipment/crossbow-light.json', 'file_name': 'crossbow-light.json', 'file_type': 'application/json', 'file_size': 1027, 'creation_date': '2024-02-17', 'last_modified_date': '2024-01-18', 'last_accessed_date': '2024-02-17'}, '16ebd499-83a7-44bd-8f90-b26fdb24b39f': {'file_path': '/root/LL-DM/srd/api/equipment/case-crossbow-bolt.json', 'file_name': 'case-crossbow-bolt.json', 'file_type': 'application/json', 'file_size': 605, 'creation_date': '2024-02-17', 'last_modified_date': '2024-01-18', 'last_accessed_date': '2024-02-17'}, 'f41e2562-aaba-4556-ab3b-d02352929c8d': {'file_path': '/root/LL-DM/srd/api/equipment/crossbow-heavy.json', 'file_name': 'crossbow-heavy.json', 'file_type': 'application/json', 'file_size': 1136, 'creation_date': '2024-02-17', 'last_modified_date': '2024-01-18', 'last_accessed_date': '2024-02-17'}, '9f05c725-46d0-4ecb-a82d-8f357e08ae19': {'file_path': '/root/LL-DM/srd/api/classes/fighter.json', 'file_name': 'fighter.json', 'file_type': 'application/json', 'file_size': 10123, 'creation_date': '2024-02-17', 'last_modified_date': '2024-01-18', 'last_accessed_date': '2024-02-17'}, 'de8cd5dd-829c-4dd3-a9d6-16ac48d0fd3f': {'file_path': '/root/LL-DM/srd/api/classes/cleric.json', 'file_name': 'cleric.json', 'file_type': 'application/json', 'file_size': 11236, 'creation_date': '2024-02-17', 'last_modified_date': '2024-01-18', 'last_accessed_date': '2024-02-17'}})"
      ]
     },
     "execution_count": 16,
     "metadata": {},
     "output_type": "execute_result"
    }
   ],
   "source": [
    "query_engine.query(\"What is the cost of a crossbow? List all costs available\")"
   ]
  },
  {
   "cell_type": "markdown",
   "metadata": {},
   "source": [
    "### Test persistence"
   ]
  },
  {
   "cell_type": "code",
   "execution_count": 17,
   "metadata": {},
   "outputs": [],
   "source": [
    "base_index.storage_context.persist(\"index/\")"
   ]
  },
  {
   "cell_type": "code",
   "execution_count": 19,
   "metadata": {},
   "outputs": [],
   "source": [
    "from llama_index.core import StorageContext, load_index_from_storage\n",
    "\n",
    "# rebuild storage context\n",
    "storage_context = StorageContext.from_defaults(persist_dir=\"index/\")\n",
    "\n",
    "# load index\n",
    "index = load_index_from_storage(storage_context, embed_model=embed_model, show_progress=True)"
   ]
  },
  {
   "cell_type": "code",
   "execution_count": 22,
   "metadata": {},
   "outputs": [
    {
     "name": "stderr",
     "output_type": "stream",
     "text": [
      "\u001b[32m2024-02-17 17:00:11.615\u001b[0m | \u001b[34m\u001b[1mDEBUG   \u001b[0m | \u001b[36msrc.vector_store\u001b[0m:\u001b[36m__init__\u001b[0m:\u001b[36m69\u001b[0m - \u001b[34m\u001b[1mCache directory index already exists\u001b[0m\n",
      "\u001b[32m2024-02-17 17:00:11.617\u001b[0m | \u001b[34m\u001b[1mDEBUG   \u001b[0m | \u001b[36msrc.vector_store\u001b[0m:\u001b[36m__init__\u001b[0m:\u001b[36m70\u001b[0m - \u001b[34m\u001b[1mTrying to load existing index from index\u001b[0m\n"
     ]
    },
    {
     "name": "stderr",
     "output_type": "stream",
     "text": [
      "\u001b[32m2024-02-17 17:01:22.969\u001b[0m | \u001b[34m\u001b[1mDEBUG   \u001b[0m | \u001b[36msrc.vector_store\u001b[0m:\u001b[36m__init__\u001b[0m:\u001b[36m74\u001b[0m - \u001b[34m\u001b[1mIndex ready\u001b[0m\n"
     ]
    },
    {
     "data": {
      "application/vnd.jupyter.widget-view+json": {
       "model_id": "f9c1c01be8804ddab2500b1a9083078e",
       "version_major": 2,
       "version_minor": 0
      },
      "text/plain": [
       "config.json:   0%|          | 0.00/799 [00:00<?, ?B/s]"
      ]
     },
     "metadata": {},
     "output_type": "display_data"
    },
    {
     "data": {
      "application/vnd.jupyter.widget-view+json": {
       "model_id": "35b44b60b3ac4cd2ac3898ed687245f4",
       "version_major": 2,
       "version_minor": 0
      },
      "text/plain": [
       "model.safetensors:   0%|          | 0.00/1.11G [00:00<?, ?B/s]"
      ]
     },
     "metadata": {},
     "output_type": "display_data"
    },
    {
     "data": {
      "application/vnd.jupyter.widget-view+json": {
       "model_id": "c915426273ae42fba0b7736343cb778d",
       "version_major": 2,
       "version_minor": 0
      },
      "text/plain": [
       "tokenizer_config.json:   0%|          | 0.00/443 [00:00<?, ?B/s]"
      ]
     },
     "metadata": {},
     "output_type": "display_data"
    },
    {
     "data": {
      "application/vnd.jupyter.widget-view+json": {
       "model_id": "a4a00ed37f1a45019bea0f15b0d27e95",
       "version_major": 2,
       "version_minor": 0
      },
      "text/plain": [
       "sentencepiece.bpe.model:   0%|          | 0.00/5.07M [00:00<?, ?B/s]"
      ]
     },
     "metadata": {},
     "output_type": "display_data"
    },
    {
     "data": {
      "application/vnd.jupyter.widget-view+json": {
       "model_id": "c49c32c19f5d4c599bb7e7e25e8205b5",
       "version_major": 2,
       "version_minor": 0
      },
      "text/plain": [
       "tokenizer.json:   0%|          | 0.00/17.1M [00:00<?, ?B/s]"
      ]
     },
     "metadata": {},
     "output_type": "display_data"
    },
    {
     "data": {
      "application/vnd.jupyter.widget-view+json": {
       "model_id": "2f2f6ce6277941c499dc5af4dbbeb8a0",
       "version_major": 2,
       "version_minor": 0
      },
      "text/plain": [
       "special_tokens_map.json:   0%|          | 0.00/279 [00:00<?, ?B/s]"
      ]
     },
     "metadata": {},
     "output_type": "display_data"
    }
   ],
   "source": [
    "from src.vector_store import AutoMergingSRDIndex, SRDConfig\n",
    "\n",
    "my_index = AutoMergingSRDIndex(model, SRDConfig(\"../srd\"))"
   ]
  },
  {
   "cell_type": "code",
   "execution_count": null,
   "metadata": {},
   "outputs": [],
   "source": []
  }
 ],
 "metadata": {
  "kernelspec": {
   "display_name": "Python 3",
   "language": "python",
   "name": "python3"
  },
  "language_info": {
   "codemirror_mode": {
    "name": "ipython",
    "version": 3
   },
   "file_extension": ".py",
   "mimetype": "text/x-python",
   "name": "python",
   "nbconvert_exporter": "python",
   "pygments_lexer": "ipython3",
   "version": "3.10.13"
  }
 },
 "nbformat": 4,
 "nbformat_minor": 2
}
