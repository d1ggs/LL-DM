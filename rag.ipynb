{
 "cells": [
  {
   "cell_type": "code",
   "execution_count": 1,
   "metadata": {},
   "outputs": [
    {
     "name": "stdout",
     "output_type": "stream",
     "text": [
      "2.1.2+rocm5.6\n",
      "True\n"
     ]
    }
   ],
   "source": [
    "import torch\n",
    "print(torch.__version__)\n",
    "print(torch.cuda.is_available())"
   ]
  },
  {
   "cell_type": "code",
   "execution_count": 2,
   "metadata": {},
   "outputs": [
    {
     "name": "stdout",
     "output_type": "stream",
     "text": [
      "fatal: destination path 'elements' already exists and is not an empty directory.\n",
      "Elements already cloned\n",
      "fatal: destination path 'CC-SRD' already exists and is not an empty directory.\n",
      "CC-SRD already cloned\n"
     ]
    }
   ],
   "source": [
    "! git clone https://github.com/aurorabuilder/elements || echo \"Elements already cloned\"\n",
    "! git clone https://github.com/Tabyltop/CC-SRD || echo \"CC-SRD already cloned\""
   ]
  },
  {
   "cell_type": "markdown",
   "metadata": {},
   "source": [
    "## LLaMaIndex Vector Store\n",
    "In this section we initialize the vector store to retrieve the rules and info from manuals\n",
    "\n",
    "Starter documentation [here](https://docs.llamaindex.ai/en/stable/getting_started/starter_example.html)"
   ]
  },
  {
   "cell_type": "code",
   "execution_count": 3,
   "metadata": {},
   "outputs": [
    {
     "name": "stdout",
     "output_type": "stream",
     "text": [
      "<class 'list'> \n",
      "\n",
      "1 \n",
      "\n",
      "<class 'llama_index.schema.Document'>\n",
      "Doc ID: 04252613-e8b7-478b-8476-168446b2fc93\n",
      "Text: Legal Information    This work includes material taken from the\n",
      "System Reference Document 5.1 (“SRD 5.1”) by Wizards of    the Coast\n",
      "LLC and available at https://dnd.wizards.com/resources/systems-\n",
      "reference-document. The    SRD 5.1 is licensed under the Creative\n",
      "Commons Attribution 4.0 International License available at\n",
      "https://creativecommons....\n"
     ]
    }
   ],
   "source": [
    "from llama_index import SimpleDirectoryReader\n",
    "\n",
    "documents = SimpleDirectoryReader(\n",
    "    input_files=[\"CC-SRD/SRD5.1-CCBY4.0License-TT.txt\"]\n",
    ").load_data()\n",
    "print(type(documents), \"\\n\")\n",
    "print(len(documents), \"\\n\")\n",
    "print(type(documents[0]))\n",
    "print(documents[0])"
   ]
  },
  {
   "cell_type": "markdown",
   "metadata": {},
   "source": [
    "Merge all the documents into a single document - they say it's better this way"
   ]
  },
  {
   "cell_type": "code",
   "execution_count": 4,
   "metadata": {},
   "outputs": [],
   "source": [
    "from llama_index import Document\n",
    "\n",
    "document = Document(text=\"\\n\\n\".join([doc.text for doc in documents]))"
   ]
  },
  {
   "cell_type": "markdown",
   "metadata": {},
   "source": [
    "Create the vector store starting from the OpenAI LLM and the documents we loaded previously"
   ]
  },
  {
   "cell_type": "markdown",
   "metadata": {},
   "source": [
    "### Auto merging retrieval setup"
   ]
  },
  {
   "cell_type": "code",
   "execution_count": 12,
   "metadata": {},
   "outputs": [],
   "source": [
    "from llama_index.node_parser import HierarchicalNodeParser\n",
    "\n",
    "# create the hierarchical node parser w/ default settings\n",
    "node_parser = HierarchicalNodeParser.from_defaults(\n",
    "    chunk_sizes=[2048, 512, 128]\n",
    ")"
   ]
  },
  {
   "cell_type": "code",
   "execution_count": 13,
   "metadata": {},
   "outputs": [],
   "source": [
    "nodes = node_parser.get_nodes_from_documents([document])"
   ]
  },
  {
   "cell_type": "code",
   "execution_count": 16,
   "metadata": {},
   "outputs": [
    {
     "name": "stdout",
     "output_type": "stream",
     "text": [
      "Breath Weapon.You can use your action to exhale destructive energy. Your draconic ancestry determines the size, shape, and damage type of the exhalation.\n",
      "---\n",
      "Dragonborn\n",
      "\n",
      "Dragonborn Traits\n",
      "Your draconic heritage manifests in a variety of traits you share with other dragonborn.\n",
      "Ability Score Increase.Your Strength score increases by 2, and your Charisma score increases by\n",
      "1.\n",
      "Age. Young dragonborn grow quickly. They walk hours after hatching, attain the size and development of a 10-year-old human child by the age of 3, and reach adulthood by 15. They live to be around 80.\n",
      "Alignment.Dragonborn tend to extremes, making a conscious choice for one side or the other in the cosmic war between good and evil. Most dragonborn are good, but those who side with evil can be terrible villains.\n",
      "Size.Dragonborn are taller and heavier than humans, standing well over 6 feet tall and averaging almost 250 pounds. Your size is Medium.\n",
      "Speed.Your base walking speed is 30 feet.\n",
      "\n",
      "Draconic Ancestry\n",
      "Dragon  Damage Type  Breath Weapon                  \n",
      "Black   Acid         5 by 30 ft. line (Dex. save)   \n",
      "Blue    Lightning    5 by 30 ft. line  (Dex. save)  \n",
      "Brass   Fire         5 by 30 ft. line (Dex. save)   \n",
      "Bronze  Lightning    5 by 30 ft. line (Dex. save)   \n",
      "Copper  Acid         5 by 30 ft. line (Dex. save)   \n",
      "Gold    Fire         15 ft. cone (Dex. save)        \n",
      "Green   Poison       15 ft. cone (Con. save)        \n",
      "Red     Fire         15 ft. cone (Dex. save)        \n",
      "Silver  Cold         15 ft. cone (Con. save)        \n",
      "White   Cold         15 ft. cone (Con. save)        \n",
      "\n",
      "Draconic Ancestry.You have draconic ancestry. Choose one type of dragon from the Draconic Ancestry table. Your breath weapon and damage resistance are determined by the dragon type, as shown in the table.\n",
      "Breath Weapon.You can use your action to exhale destructive energy. Your draconic ancestry determines the size, shape, and damage type of the exhalation.\n"
     ]
    }
   ],
   "source": [
    "# Print out a terminal node\n",
    "from llama_index.node_parser import get_leaf_nodes\n",
    "\n",
    "leaf_nodes = get_leaf_nodes(nodes)\n",
    "print(leaf_nodes[30].text)\n",
    "print(\"---\")\n",
    "# Print out the parent node for the previous node\n",
    "nodes_by_id = {node.node_id: node for node in nodes}\n",
    "\n",
    "parent_node = nodes_by_id[leaf_nodes[30].parent_node.node_id]\n",
    "print(parent_node.text)"
   ]
  },
  {
   "cell_type": "code",
   "execution_count": 17,
   "metadata": {},
   "outputs": [],
   "source": [
    "from llama_index import VectorStoreIndex\n",
    "from llama_index import ServiceContext\n",
    "from llama_index.llms import OpenAI\n",
    "\n",
    "llm = OpenAI(model=\"gpt-3.5-turbo\", temperature=0.1)\n",
    "auto_merging_context = ServiceContext.from_defaults(\n",
    "    llm=llm, embed_model=\"local:BAAI/bge-large-en-v1.5\",\n",
    "    node_parser=node_parser\n",
    ")"
   ]
  },
  {
   "cell_type": "markdown",
   "metadata": {},
   "source": [
    "#### Persist the index"
   ]
  },
  {
   "cell_type": "code",
   "execution_count": 19,
   "metadata": {},
   "outputs": [],
   "source": [
    "from llama_index import VectorStoreIndex, StorageContext\n",
    "\n",
    "storage_context = StorageContext.from_defaults()\n",
    "storage_context.docstore.add_documents(nodes)\n",
    "\n",
    "automerging_index = VectorStoreIndex(\n",
    "    leaf_nodes, storage_context=storage_context, service_context=auto_merging_context\n",
    ")\n",
    "\n",
    "automerging_index.storage_context.persist(persist_dir=\"./merging_index\")"
   ]
  },
  {
   "cell_type": "markdown",
   "metadata": {},
   "source": [
    "#### Query the retrieval engine\n",
    "This will:\n",
    "- Embed the question\n",
    "- Match similar embeddings in the vector store\n",
    "- Add the corresponding text to the context\n",
    "- Call the LLM with the retrieved context"
   ]
  },
  {
   "cell_type": "code",
   "execution_count": 20,
   "metadata": {},
   "outputs": [],
   "source": [
    "# Convert the index to a query engine\n",
    "query_engine = automerging_index.as_query_engine()"
   ]
  },
  {
   "cell_type": "code",
   "execution_count": 22,
   "metadata": {},
   "outputs": [
    {
     "name": "stdout",
     "output_type": "stream",
     "text": [
      "A wizard can choose any six 1st-level spells from their spellbook.\n"
     ]
    }
   ],
   "source": [
    "response = query_engine.query(\n",
    "    \"What are specific level 1 spells that a wizard can choose from?\"\n",
    ")\n",
    "print(str(response))"
   ]
  },
  {
   "cell_type": "markdown",
   "metadata": {},
   "source": [
    "### Evaluation of the RAG system\n",
    "We use `trulens` to run LLM-based evaluation of the context retrieval"
   ]
  },
  {
   "cell_type": "code",
   "execution_count": 23,
   "metadata": {},
   "outputs": [
    {
     "name": "stdout",
     "output_type": "stream",
     "text": [
      "✅ In Answer Relevance, input prompt will be set to __record__.main_input or `Select.RecordInput` .\n",
      "✅ In Answer Relevance, input response will be set to __record__.main_output or `Select.RecordOutput` .\n",
      "✅ In Context Relevance, input question will be set to __record__.main_input or `Select.RecordInput` .\n",
      "✅ In Context Relevance, input statement will be set to __record__.app.query.rets.source_nodes[:].node.text .\n",
      "✅ In Groundedness, input source will be set to __record__.app.query.rets.source_nodes[:].node.text .\n",
      "✅ In Groundedness, input statement will be set to __record__.main_output or `Select.RecordOutput` .\n"
     ]
    }
   ],
   "source": [
    "from trulens_eval import Tru\n",
    "from src.evaluation import get_prebuilt_trulens_recorder\n",
    "\n",
    "eval_questions = [\n",
    "    \"What are level 1 spells that a wizard can choose from?\",\n",
    "    \"What is the key ability of a wizard?\",\n",
    "    \"Which abilities is a warrior proficient in?\",\n",
    "    \"What is the hit die of a wizard?\",\n",
    "    \"What are the available classes?\",\n",
    "    \"What are the available races?\",\n",
    "    \"Do humans see in the dark?\",\n",
    "    \"Which are the race bonuses for an half-elf?\",\n",
    "    \"Does a level 3 barbarian have access to 'Magic Missile'?\"\n",
    "]\n",
    "\n",
    "# Create the tru database\n",
    "tru = Tru()\n",
    "tru.reset_database()\n",
    "\n",
    "# Create the recorder\n",
    "tru_recorder = get_prebuilt_trulens_recorder(query_engine,\n",
    "                                             app_id=\"Direct Query Engine\")"
   ]
  },
  {
   "cell_type": "code",
   "execution_count": 24,
   "metadata": {},
   "outputs": [],
   "source": [
    "with tru_recorder as recording:\n",
    "    for question in eval_questions:\n",
    "        response = query_engine.query(question)\n",
    "\n",
    "records, feedback = tru.get_records_and_feedback(app_ids=[])"
   ]
  },
  {
   "cell_type": "code",
   "execution_count": 25,
   "metadata": {},
   "outputs": [
    {
     "data": {
      "text/html": [
       "<div>\n",
       "<style scoped>\n",
       "    .dataframe tbody tr th:only-of-type {\n",
       "        vertical-align: middle;\n",
       "    }\n",
       "\n",
       "    .dataframe tbody tr th {\n",
       "        vertical-align: top;\n",
       "    }\n",
       "\n",
       "    .dataframe thead th {\n",
       "        text-align: right;\n",
       "    }\n",
       "</style>\n",
       "<table border=\"1\" class=\"dataframe\">\n",
       "  <thead>\n",
       "    <tr style=\"text-align: right;\">\n",
       "      <th></th>\n",
       "      <th>app_id</th>\n",
       "      <th>app_json</th>\n",
       "      <th>type</th>\n",
       "      <th>record_id</th>\n",
       "      <th>input</th>\n",
       "      <th>output</th>\n",
       "      <th>tags</th>\n",
       "      <th>record_json</th>\n",
       "      <th>cost_json</th>\n",
       "      <th>perf_json</th>\n",
       "      <th>ts</th>\n",
       "      <th>Context Relevance</th>\n",
       "      <th>Answer Relevance</th>\n",
       "      <th>Groundedness</th>\n",
       "      <th>Context Relevance_calls</th>\n",
       "      <th>Answer Relevance_calls</th>\n",
       "      <th>Groundedness_calls</th>\n",
       "      <th>latency</th>\n",
       "      <th>total_tokens</th>\n",
       "      <th>total_cost</th>\n",
       "    </tr>\n",
       "  </thead>\n",
       "  <tbody>\n",
       "    <tr>\n",
       "      <th>0</th>\n",
       "      <td>Direct Query Engine</td>\n",
       "      <td>{\"tru_class_info\": {\"name\": \"TruLlama\", \"modul...</td>\n",
       "      <td>RetrieverQueryEngine(llama_index.query_engine....</td>\n",
       "      <td>record_hash_4de9b0158b801e2076edeb8c2dae4344</td>\n",
       "      <td>\"What are level 1 spells that a wizard can cho...</td>\n",
       "      <td>\"A wizard can choose from six level 1 spells f...</td>\n",
       "      <td>-</td>\n",
       "      <td>{\"record_id\": \"record_hash_4de9b0158b801e2076e...</td>\n",
       "      <td>{\"n_requests\": 1, \"n_successful_requests\": 1, ...</td>\n",
       "      <td>{\"start_time\": \"2024-01-17T19:44:30.960433\", \"...</td>\n",
       "      <td>2024-01-17T19:44:32.724342</td>\n",
       "      <td>0.90</td>\n",
       "      <td>1.0</td>\n",
       "      <td>1.0</td>\n",
       "      <td>[{'args': {'question': 'What are level 1 spell...</td>\n",
       "      <td>[{'args': {'prompt': 'What are level 1 spells ...</td>\n",
       "      <td>[{'args': {'source': '3    2    2    1    1   ...</td>\n",
       "      <td>1</td>\n",
       "      <td>384</td>\n",
       "      <td>0.000583</td>\n",
       "    </tr>\n",
       "    <tr>\n",
       "      <th>1</th>\n",
       "      <td>Direct Query Engine</td>\n",
       "      <td>{\"tru_class_info\": {\"name\": \"TruLlama\", \"modul...</td>\n",
       "      <td>RetrieverQueryEngine(llama_index.query_engine....</td>\n",
       "      <td>record_hash_f30a0d742cd026a8008da506258ebf59</td>\n",
       "      <td>\"What is the key ability of a wizard?\"</td>\n",
       "      <td>\"Intelligence is the key ability of a wizard.\"</td>\n",
       "      <td>-</td>\n",
       "      <td>{\"record_id\": \"record_hash_f30a0d742cd026a8008...</td>\n",
       "      <td>{\"n_requests\": 1, \"n_successful_requests\": 1, ...</td>\n",
       "      <td>{\"start_time\": \"2024-01-17T19:44:32.879647\", \"...</td>\n",
       "      <td>2024-01-17T19:44:34.144900</td>\n",
       "      <td>0.45</td>\n",
       "      <td>0.9</td>\n",
       "      <td>1.0</td>\n",
       "      <td>[{'args': {'question': 'What is the key abilit...</td>\n",
       "      <td>[{'args': {'prompt': 'What is the key ability ...</td>\n",
       "      <td>[{'args': {'source': 'You can change your list...</td>\n",
       "      <td>1</td>\n",
       "      <td>344</td>\n",
       "      <td>0.000521</td>\n",
       "    </tr>\n",
       "    <tr>\n",
       "      <th>2</th>\n",
       "      <td>Direct Query Engine</td>\n",
       "      <td>{\"tru_class_info\": {\"name\": \"TruLlama\", \"modul...</td>\n",
       "      <td>RetrieverQueryEngine(llama_index.query_engine....</td>\n",
       "      <td>record_hash_ee518612d726eb0f505848d66042cf3c</td>\n",
       "      <td>\"Which abilities is a warrior proficient in?\"</td>\n",
       "      <td>\"A warrior is proficient in using martial weap...</td>\n",
       "      <td>-</td>\n",
       "      <td>{\"record_id\": \"record_hash_ee518612d726eb0f505...</td>\n",
       "      <td>{\"n_requests\": 1, \"n_successful_requests\": 1, ...</td>\n",
       "      <td>{\"start_time\": \"2024-01-17T19:44:34.295516\", \"...</td>\n",
       "      <td>2024-01-17T19:44:35.558999</td>\n",
       "      <td>0.50</td>\n",
       "      <td>0.9</td>\n",
       "      <td>1.0</td>\n",
       "      <td>[{'args': {'question': 'Which abilities is a w...</td>\n",
       "      <td>[{'args': {'prompt': 'Which abilities is a war...</td>\n",
       "      <td>[{'args': {'source': 'STR      DEX      CON   ...</td>\n",
       "      <td>1</td>\n",
       "      <td>365</td>\n",
       "      <td>0.000553</td>\n",
       "    </tr>\n",
       "    <tr>\n",
       "      <th>3</th>\n",
       "      <td>Direct Query Engine</td>\n",
       "      <td>{\"tru_class_info\": {\"name\": \"TruLlama\", \"modul...</td>\n",
       "      <td>RetrieverQueryEngine(llama_index.query_engine....</td>\n",
       "      <td>record_hash_5587adc37fe0389cfcae4cba1e7d0084</td>\n",
       "      <td>\"What is the hit die of a wizard?\"</td>\n",
       "      <td>\"The hit die of a wizard is 1d6.\"</td>\n",
       "      <td>-</td>\n",
       "      <td>{\"record_id\": \"record_hash_5587adc37fe0389cfca...</td>\n",
       "      <td>{\"n_requests\": 1, \"n_successful_requests\": 1, ...</td>\n",
       "      <td>{\"start_time\": \"2024-01-17T19:44:35.709981\", \"...</td>\n",
       "      <td>2024-01-17T19:44:37.124520</td>\n",
       "      <td>0.60</td>\n",
       "      <td>1.0</td>\n",
       "      <td>1.0</td>\n",
       "      <td>[{'args': {'question': 'What is the hit die of...</td>\n",
       "      <td>[{'args': {'prompt': 'What is the hit die of a...</td>\n",
       "      <td>[{'args': {'source': 'Wizard\n",
       "\n",
       "Class Features\n",
       "A...</td>\n",
       "      <td>1</td>\n",
       "      <td>380</td>\n",
       "      <td>0.000576</td>\n",
       "    </tr>\n",
       "    <tr>\n",
       "      <th>4</th>\n",
       "      <td>Direct Query Engine</td>\n",
       "      <td>{\"tru_class_info\": {\"name\": \"TruLlama\", \"modul...</td>\n",
       "      <td>RetrieverQueryEngine(llama_index.query_engine....</td>\n",
       "      <td>record_hash_6837203d5f5cf2aba4d584ff268e2577</td>\n",
       "      <td>\"What are the available classes?\"</td>\n",
       "      <td>\"The available classes are not explicitly ment...</td>\n",
       "      <td>-</td>\n",
       "      <td>{\"record_id\": \"record_hash_6837203d5f5cf2aba4d...</td>\n",
       "      <td>{\"n_requests\": 1, \"n_successful_requests\": 1, ...</td>\n",
       "      <td>{\"start_time\": \"2024-01-17T19:44:37.253258\", \"...</td>\n",
       "      <td>2024-01-17T19:44:38.972673</td>\n",
       "      <td>NaN</td>\n",
       "      <td>1.0</td>\n",
       "      <td>NaN</td>\n",
       "      <td>NaN</td>\n",
       "      <td>[{'args': {'prompt': 'What are the available c...</td>\n",
       "      <td>NaN</td>\n",
       "      <td>1</td>\n",
       "      <td>297</td>\n",
       "      <td>0.000452</td>\n",
       "    </tr>\n",
       "  </tbody>\n",
       "</table>\n",
       "</div>"
      ],
      "text/plain": [
       "                app_id                                           app_json  \\\n",
       "0  Direct Query Engine  {\"tru_class_info\": {\"name\": \"TruLlama\", \"modul...   \n",
       "1  Direct Query Engine  {\"tru_class_info\": {\"name\": \"TruLlama\", \"modul...   \n",
       "2  Direct Query Engine  {\"tru_class_info\": {\"name\": \"TruLlama\", \"modul...   \n",
       "3  Direct Query Engine  {\"tru_class_info\": {\"name\": \"TruLlama\", \"modul...   \n",
       "4  Direct Query Engine  {\"tru_class_info\": {\"name\": \"TruLlama\", \"modul...   \n",
       "\n",
       "                                                type  \\\n",
       "0  RetrieverQueryEngine(llama_index.query_engine....   \n",
       "1  RetrieverQueryEngine(llama_index.query_engine....   \n",
       "2  RetrieverQueryEngine(llama_index.query_engine....   \n",
       "3  RetrieverQueryEngine(llama_index.query_engine....   \n",
       "4  RetrieverQueryEngine(llama_index.query_engine....   \n",
       "\n",
       "                                      record_id  \\\n",
       "0  record_hash_4de9b0158b801e2076edeb8c2dae4344   \n",
       "1  record_hash_f30a0d742cd026a8008da506258ebf59   \n",
       "2  record_hash_ee518612d726eb0f505848d66042cf3c   \n",
       "3  record_hash_5587adc37fe0389cfcae4cba1e7d0084   \n",
       "4  record_hash_6837203d5f5cf2aba4d584ff268e2577   \n",
       "\n",
       "                                               input  \\\n",
       "0  \"What are level 1 spells that a wizard can cho...   \n",
       "1             \"What is the key ability of a wizard?\"   \n",
       "2      \"Which abilities is a warrior proficient in?\"   \n",
       "3                 \"What is the hit die of a wizard?\"   \n",
       "4                  \"What are the available classes?\"   \n",
       "\n",
       "                                              output tags  \\\n",
       "0  \"A wizard can choose from six level 1 spells f...    -   \n",
       "1     \"Intelligence is the key ability of a wizard.\"    -   \n",
       "2  \"A warrior is proficient in using martial weap...    -   \n",
       "3                  \"The hit die of a wizard is 1d6.\"    -   \n",
       "4  \"The available classes are not explicitly ment...    -   \n",
       "\n",
       "                                         record_json  \\\n",
       "0  {\"record_id\": \"record_hash_4de9b0158b801e2076e...   \n",
       "1  {\"record_id\": \"record_hash_f30a0d742cd026a8008...   \n",
       "2  {\"record_id\": \"record_hash_ee518612d726eb0f505...   \n",
       "3  {\"record_id\": \"record_hash_5587adc37fe0389cfca...   \n",
       "4  {\"record_id\": \"record_hash_6837203d5f5cf2aba4d...   \n",
       "\n",
       "                                           cost_json  \\\n",
       "0  {\"n_requests\": 1, \"n_successful_requests\": 1, ...   \n",
       "1  {\"n_requests\": 1, \"n_successful_requests\": 1, ...   \n",
       "2  {\"n_requests\": 1, \"n_successful_requests\": 1, ...   \n",
       "3  {\"n_requests\": 1, \"n_successful_requests\": 1, ...   \n",
       "4  {\"n_requests\": 1, \"n_successful_requests\": 1, ...   \n",
       "\n",
       "                                           perf_json  \\\n",
       "0  {\"start_time\": \"2024-01-17T19:44:30.960433\", \"...   \n",
       "1  {\"start_time\": \"2024-01-17T19:44:32.879647\", \"...   \n",
       "2  {\"start_time\": \"2024-01-17T19:44:34.295516\", \"...   \n",
       "3  {\"start_time\": \"2024-01-17T19:44:35.709981\", \"...   \n",
       "4  {\"start_time\": \"2024-01-17T19:44:37.253258\", \"...   \n",
       "\n",
       "                           ts  Context Relevance  Answer Relevance  \\\n",
       "0  2024-01-17T19:44:32.724342               0.90               1.0   \n",
       "1  2024-01-17T19:44:34.144900               0.45               0.9   \n",
       "2  2024-01-17T19:44:35.558999               0.50               0.9   \n",
       "3  2024-01-17T19:44:37.124520               0.60               1.0   \n",
       "4  2024-01-17T19:44:38.972673                NaN               1.0   \n",
       "\n",
       "   Groundedness                            Context Relevance_calls  \\\n",
       "0           1.0  [{'args': {'question': 'What are level 1 spell...   \n",
       "1           1.0  [{'args': {'question': 'What is the key abilit...   \n",
       "2           1.0  [{'args': {'question': 'Which abilities is a w...   \n",
       "3           1.0  [{'args': {'question': 'What is the hit die of...   \n",
       "4           NaN                                                NaN   \n",
       "\n",
       "                              Answer Relevance_calls  \\\n",
       "0  [{'args': {'prompt': 'What are level 1 spells ...   \n",
       "1  [{'args': {'prompt': 'What is the key ability ...   \n",
       "2  [{'args': {'prompt': 'Which abilities is a war...   \n",
       "3  [{'args': {'prompt': 'What is the hit die of a...   \n",
       "4  [{'args': {'prompt': 'What are the available c...   \n",
       "\n",
       "                                  Groundedness_calls  latency  total_tokens  \\\n",
       "0  [{'args': {'source': '3    2    2    1    1   ...        1           384   \n",
       "1  [{'args': {'source': 'You can change your list...        1           344   \n",
       "2  [{'args': {'source': 'STR      DEX      CON   ...        1           365   \n",
       "3  [{'args': {'source': 'Wizard\n",
       "\n",
       "Class Features\n",
       "A...        1           380   \n",
       "4                                                NaN        1           297   \n",
       "\n",
       "   total_cost  \n",
       "0    0.000583  \n",
       "1    0.000521  \n",
       "2    0.000553  \n",
       "3    0.000576  \n",
       "4    0.000452  "
      ]
     },
     "execution_count": 25,
     "metadata": {},
     "output_type": "execute_result"
    }
   ],
   "source": [
    "records.head()"
   ]
  },
  {
   "cell_type": "code",
   "execution_count": 26,
   "metadata": {},
   "outputs": [
    {
     "name": "stdout",
     "output_type": "stream",
     "text": [
      "Starting dashboard ...\n",
      "Config file already exists. Skipping writing process.\n",
      "Credentials file already exists. Skipping writing process.\n",
      "Dashboard already running at path:   Network URL: http://192.168.1.96:8501\n",
      "\n"
     ]
    },
    {
     "data": {
      "text/plain": [
       "<Popen: returncode: None args: ['streamlit', 'run', '--server.headless=True'...>"
      ]
     },
     "execution_count": 26,
     "metadata": {},
     "output_type": "execute_result"
    }
   ],
   "source": [
    "tru.run_dashboard()"
   ]
  },
  {
   "cell_type": "markdown",
   "metadata": {},
   "source": [
    "#### LLaMaIndex agent tool\n",
    "To interoperate with langchain, we create a tool from the query engine like in the official [documentation](https://docs.llamaindex.ai/en/stable/community/integrations/using_with_langchain.html)"
   ]
  },
  {
   "cell_type": "code",
   "execution_count": null,
   "metadata": {},
   "outputs": [],
   "source": [
    "from llama_index.langchain_helpers.agents import (\n",
    "    IndexToolConfig,\n",
    "    LlamaIndexTool,\n",
    ")\n",
    "\n",
    "tool_config = IndexToolConfig(\n",
    "    query_engine=query_engine,\n",
    "    name=f\"Vector Index\",\n",
    "    description=f\"useful for when you want to answer queries about X\",\n",
    "    tool_kwargs={\"return_direct\": True},\n",
    ")\n",
    "\n",
    "tool = LlamaIndexTool.from_tool_config(tool_config)\n"
   ]
  },
  {
   "cell_type": "code",
   "execution_count": null,
   "metadata": {},
   "outputs": [],
   "source": [
    "from langchain_community.vectorstores import FAISS\n",
    "from langchain.prompts import ChatPromptTemplate, ChatMessagePromptTemplate\n",
    "from langchain.schema import StrOutputParser\n",
    "from langchain_core.prompts import ChatPromptTemplate, MessagesPlaceholder\n",
    "from langchain.memory import ConversationBufferWindowMemory\n",
    "from langchain.chains import LLMChain\n",
    "from langchain_community.embeddings import HuggingFaceEmbeddings\n",
    "from langchain_core.prompts import ChatPromptTemplate\n",
    "from langchain_core.runnables import RunnableLambda, RunnablePassthrough\n",
    "\n",
    "from src.models import ModelFactory, ModelType"
   ]
  },
  {
   "cell_type": "code",
   "execution_count": null,
   "metadata": {},
   "outputs": [],
   "source": [
    "llm = ModelFactory.get_model(ModelType.GPT_35_TURBO)"
   ]
  },
  {
   "cell_type": "code",
   "execution_count": null,
   "metadata": {},
   "outputs": [],
   "source": [
    "from langchain import hub\n",
    "# Get the prompt from the hub\n",
    "prompt = hub.pull(\"hwchase17/openai-tools-agent\")\n",
    "prompt"
   ]
  },
  {
   "cell_type": "code",
   "execution_count": null,
   "metadata": {},
   "outputs": [],
   "source": [
    "# Construct the OpenAI Tools agent\n",
    "from langchain.agents import AgentExecutor, create_openai_tools_agent\n",
    "agent = create_openai_tools_agent(llm, tools, prompt)"
   ]
  },
  {
   "cell_type": "markdown",
   "metadata": {},
   "source": [
    "## Embeddings model"
   ]
  },
  {
   "cell_type": "code",
   "execution_count": null,
   "metadata": {},
   "outputs": [],
   "source": [
    "model_name = \"sentence-transformers/all-MiniLM-L6-v2\"\n",
    "model_kwargs = {'device': 'cuda'}\n",
    "encode_kwargs = {'normalize_embeddings': False}\n",
    "hf = HuggingFaceEmbeddings(\n",
    "    model_name=model_name,\n",
    "    model_kwargs=model_kwargs,\n",
    "    encode_kwargs=encode_kwargs\n",
    ")"
   ]
  },
  {
   "cell_type": "code",
   "execution_count": null,
   "metadata": {},
   "outputs": [],
   "source": [
    "from langchain.document_loaders import PyPDFLoader, UnstructuredXMLLoader\n",
    "from langchain_community.document_loaders.unstructured import UnstructuredBaseLoader\n",
    "\n",
    "\n",
    "import xml.etree.ElementTree as ET\n",
    "from typing import List, Any\n",
    "\n",
    "class XMLRPGClassLoader(UnstructuredBaseLoader):\n",
    "    \"\"\"Custom Loader for RPG class XML files, focusing on detailed features/abilities.\"\"\"\n",
    "\n",
    "    def __init__(\n",
    "        self,\n",
    "        file_path: str,\n",
    "        mode: str = \"elements\",\n",
    "        **unstructured_kwargs: Any,\n",
    "    ):\n",
    "        \"\"\"Initialize with XML file path.\"\"\"\n",
    "        self.file_path = file_path\n",
    "        super().__init__(mode=mode, **unstructured_kwargs)\n",
    "\n",
    "    def _parse_xml(self) -> ET.ElementTree:\n",
    "        \"\"\"Parse the XML file and return the root element.\"\"\"\n",
    "        tree = ET.parse(self.file_path)\n",
    "        return tree.getroot()\n",
    "\n",
    "    def _get_elements(self) -> List[dict]:\n",
    "            \"\"\"Extract elements from the XML file.\"\"\"\n",
    "            root = self._parse_xml()\n",
    "            elements = []\n",
    "\n",
    "            for element in root.findall('.//element'):\n",
    "                element_data = {}\n",
    "                element_texts = []\n",
    "\n",
    "                # Element name and type\n",
    "                name = element.get('name', 'Unnamed Feature')\n",
    "                element_type = element.get('type', 'Unknown Type')\n",
    "                element_texts.append(name)\n",
    "                element_data['type'] = element_type\n",
    "\n",
    "                # Extracting description, sheet, and supports text\n",
    "                for tag in ['description', 'sheet', 'supports']:\n",
    "                    text_content = element.find(tag)\n",
    "                    if text_content is not None:\n",
    "                        text = ''.join(text_content.itertext()).strip()\n",
    "                        element_texts.append(text)\n",
    "\n",
    "                # Combine all texts and add metadata\n",
    "                element_data['text'] = \"\\n\\n\".join(element_texts)\n",
    "                elements.append(element_data)\n",
    "\n",
    "            return elements\n",
    "\n",
    "    def _get_metadata(self) -> dict:\n",
    "        \"\"\"Get metadata for the XML file.\"\"\"\n",
    "        return {\"source\": self.file_path, \"file_type\": \"xml\"}\n",
    "\n",
    "# Example usage\n",
    "# loader = XMLRPGClassLoader(file_path=\"elements/core/players-handbook/classes/class-barbarian.xml\")\n",
    "# docs = loader.load()\n",
    "# docs[0]"
   ]
  },
  {
   "cell_type": "code",
   "execution_count": null,
   "metadata": {},
   "outputs": [],
   "source": [
    "import os \n",
    "import glob  \n",
    "# Define the directory path \n",
    "directory_path = 'elements/core/players-handbook/classes'  \n",
    "# Initialize a list to store the XML file contents as strings \n",
    "xml_strings = []  \n",
    "# Use the glob module to recursively find XML files in the directory and its subfolders \n",
    "xml_files = glob.glob('*.xml', root_dir=directory_path, recursive=True)\n",
    "\n",
    "documents = []\n",
    "\n",
    "for xml_file in xml_files:\n",
    "    loader = XMLRPGClassLoader(os.path.join(directory_path, xml_file))\n",
    "    documents.extend(loader.load())\n",
    "# Loop through each XML file and read its content as a string \n",
    "# for xml_file in xml_files:     \n",
    "#     with open(os.path.join(directory_path, xml_file), 'r', encoding='utf-8') as file:         \n",
    "#         xml_string = file.read()         \n",
    "#         xml_strings.append(xml_string)  \n",
    "# Now, the xml_strings list contains the contents of all XML files as strings"
   ]
  },
  {
   "cell_type": "code",
   "execution_count": null,
   "metadata": {},
   "outputs": [],
   "source": [
    "documents[0]"
   ]
  },
  {
   "cell_type": "markdown",
   "metadata": {},
   "source": [
    "### Sentence splitting"
   ]
  },
  {
   "cell_type": "markdown",
   "metadata": {},
   "source": [
    "from langchain.text_splitter import CharacterTextSplitter, SentenceTransformersTokenTextSplitter\n",
    "\n",
    "# text_splitter = CharacterTextSplitter(chunk_size=128, chunk_overlap=30, separator=\"\\n\")\n",
    "text_splitter = SentenceTransformersTokenTextSplitter(chunk_overlap=0)\n",
    "docs = text_splitter.split_documents(documents=documents)\n",
    "docs[1]"
   ]
  },
  {
   "cell_type": "markdown",
   "metadata": {},
   "source": [
    "### Vector store\n",
    "Let's load the document inside the FAISS vector store. Pay attention that the metadata will be discarded, so include everything that would be relevant to the model inside the text."
   ]
  },
  {
   "cell_type": "code",
   "execution_count": null,
   "metadata": {},
   "outputs": [],
   "source": [
    "document_texts = [doc.page_content for doc in documents]\n",
    "vectorstore = FAISS.from_texts(texts=document_texts, embedding=hf)\n",
    "retriever = vectorstore.as_retriever(search_kwargs={\"k\": 100})"
   ]
  },
  {
   "cell_type": "markdown",
   "metadata": {},
   "source": [
    "### Reranking\n",
    "Vector stores' performance can be increased by reranking the documents extracted with the embeddings by using a dedicated reranking model. The output of such a model will be an ordered subset of the input documents retrieved by the vector store"
   ]
  },
  {
   "cell_type": "code",
   "execution_count": null,
   "metadata": {},
   "outputs": [],
   "source": [
    "from __future__ import annotations\n",
    "from typing import Dict, Optional, Sequence\n",
    "from langchain.schema import Document\n",
    "from langchain.pydantic_v1 import Extra, root_validator\n",
    "\n",
    "from langchain.callbacks.manager import Callbacks\n",
    "from langchain.retrievers.document_compressors.base import BaseDocumentCompressor\n",
    "\n",
    "from sentence_transformers import CrossEncoder\n",
    "# from config import bge_reranker_large\n",
    "\n",
    "class BgeRerank(BaseDocumentCompressor):\n",
    "    model_name: str = 'BAAI/bge-reranker-large'  \n",
    "    \"\"\"Model name to use for reranking.\"\"\"    \n",
    "    top_n: int = 10   \n",
    "    \"\"\"Number of documents to return.\"\"\"\n",
    "    model: CrossEncoder = CrossEncoder(model_name, device=\"cuda\")\n",
    "    \"\"\"CrossEncoder instance to use for reranking.\"\"\"\n",
    "\n",
    "    def bge_rerank(self,query,docs):\n",
    "        model_inputs =  [[query, doc] for doc in docs]\n",
    "        scores = self.model.predict(model_inputs)\n",
    "        results = sorted(enumerate(scores), key=lambda x: x[1], reverse=True)\n",
    "        return results[:self.top_n]\n",
    "\n",
    "\n",
    "    class Config:\n",
    "        \"\"\"Configuration for this pydantic object.\"\"\"\n",
    "\n",
    "        extra = Extra.forbid\n",
    "        arbitrary_types_allowed = True\n",
    "\n",
    "    def compress_documents(\n",
    "        self,\n",
    "        documents: Sequence[Document],\n",
    "        query: str,\n",
    "        callbacks: Optional[Callbacks] = None,\n",
    "    ) -> Sequence[Document]:\n",
    "        \"\"\"\n",
    "        Compress documents using BAAI/bge-reranker models.\n",
    "\n",
    "        Args:\n",
    "            documents: A sequence of documents to compress.\n",
    "            query: The query to use for compressing the documents.\n",
    "            callbacks: Callbacks to run during the compression process.\n",
    "\n",
    "        Returns:\n",
    "            A sequence of compressed documents.\n",
    "        \"\"\"\n",
    "        if len(documents) == 0:  # to avoid empty api call\n",
    "            return []\n",
    "        doc_list = list(documents)\n",
    "        _docs = [d.page_content for d in doc_list]\n",
    "        results = self.bge_rerank(query, _docs)\n",
    "        final_results = []\n",
    "        for r in results:\n",
    "            doc = doc_list[r[0]]\n",
    "            doc.metadata[\"relevance_score\"] = r[1]\n",
    "            final_results.append(doc)\n",
    "        return final_results"
   ]
  },
  {
   "cell_type": "code",
   "execution_count": null,
   "metadata": {},
   "outputs": [],
   "source": [
    "from langchain.retrievers import ContextualCompressionRetriever\n",
    "\n",
    "compressor = BgeRerank(top_n=5)\n",
    "\n",
    "compression_retriever = ContextualCompressionRetriever(\n",
    "    base_compressor=compressor, base_retriever=retriever\n",
    ")"
   ]
  },
  {
   "cell_type": "code",
   "execution_count": null,
   "metadata": {},
   "outputs": [],
   "source": [
    "compression_retriever.get_relevant_documents(query=\"Barbarian history proficiency\")\n",
    "context = str(compression_retriever.get_relevant_documents(query=\"Barbarian history proficiency\"))\n",
    "\n",
    "# Sanitize context to be used in a formattable string\n",
    "context = context.replace(\"{\", \"{{\").replace(\"}\", \"}}\")"
   ]
  },
  {
   "cell_type": "code",
   "execution_count": null,
   "metadata": {},
   "outputs": [],
   "source": [
    "template = \"\"\"### System:\n",
    "Answer the user's question based only on the following context:\n",
    "{context}\n",
    "\n",
    "### User: Question: {question}\n",
    "\n",
    "### Assistant:\n",
    "\"\"\"\n",
    "prompt = ChatPromptTemplate.from_template(template)\n",
    "\n",
    "chain = (\n",
    "    {\"context\": compression_retriever, \"question\": RunnablePassthrough()}\n",
    "    | prompt\n",
    "    | model\n",
    "    | StrOutputParser()\n",
    ")"
   ]
  },
  {
   "cell_type": "code",
   "execution_count": 23,
   "metadata": {},
   "outputs": [
    {
     "data": {
      "text/plain": [
       "\"\\nA bard's most important skill lies in their ability to weave magic through words and music. Their versatility, knowledge, and talent in various subjects make them masters of performance, speech, and the magic they contain. Bards are known for their skill in inspiring allies, demoralizing foes, manipulating minds, creating illusions, and even healing wounds through their spells and powers. Their strength lies in their sheer versatility and the depth of knowledge they possess, making them valuable assets in any adventuring party.\""
      ]
     },
     "execution_count": 23,
     "metadata": {},
     "output_type": "execute_result"
    }
   ],
   "source": [
    "chain.invoke(\"What's a bard's most important skill?\")"
   ]
  },
  {
   "cell_type": "code",
   "execution_count": null,
   "metadata": {},
   "outputs": [],
   "source": []
  }
 ],
 "metadata": {
  "kernelspec": {
   "display_name": "Python 3",
   "language": "python",
   "name": "python3"
  },
  "language_info": {
   "codemirror_mode": {
    "name": "ipython",
    "version": 3
   },
   "file_extension": ".py",
   "mimetype": "text/x-python",
   "name": "python",
   "nbconvert_exporter": "python",
   "pygments_lexer": "ipython3",
   "version": "3.10.12"
  }
 },
 "nbformat": 4,
 "nbformat_minor": 2
}
